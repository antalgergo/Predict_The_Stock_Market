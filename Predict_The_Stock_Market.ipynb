{
 "cells": [
  {
   "cell_type": "code",
   "execution_count": null,
   "id": "997ecf35-7edc-4428-be18-dbf5cdaa3221",
   "metadata": {},
   "outputs": [],
   "source": []
  }
 ],
 "metadata": {
  "kernelspec": {
   "display_name": "Portfolio Project - Predict The Stock Market",
   "language": "python",
   "name": "predict_the_stock_market"
  },
  "language_info": {
   "codemirror_mode": {
    "name": "ipython",
    "version": 3
   },
   "file_extension": ".py",
   "mimetype": "text/x-python",
   "name": "python",
   "nbconvert_exporter": "python",
   "pygments_lexer": "ipython3",
   "version": "3.12.3"
  }
 },
 "nbformat": 4,
 "nbformat_minor": 5
}
